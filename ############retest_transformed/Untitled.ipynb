{
 "cells": [
  {
   "cell_type": "code",
   "execution_count": 2,
   "id": "3ee94e06-bc6a-42a5-a8bb-9e468d246ca7",
   "metadata": {},
   "outputs": [],
   "source": [
    "import pandas as pd "
   ]
  },
  {
   "cell_type": "code",
   "execution_count": 5,
   "id": "bb8c1ead-e68a-418f-9a81-febc7896b217",
   "metadata": {},
   "outputs": [],
   "source": [
    "df_ldt_s1 = pd.read_csv('ldt_session_1_data_transformed.csv')"
   ]
  },
  {
   "cell_type": "code",
   "execution_count": 6,
   "id": "ceb84258-24c1-4e4f-8ff8-3db1ffa5e438",
   "metadata": {},
   "outputs": [
    {
     "data": {
      "text/plain": [
       "['Unnamed: 0',\n",
       " 'Experiment',\n",
       " 'v1_mean',\n",
       " 'v2_mean',\n",
       " 'zr_mean',\n",
       " 'a_mean',\n",
       " 'ndt_mean',\n",
       " 'sndt_mean',\n",
       " 'alpha_mean',\n",
       " 'accuracy_percentage',\n",
       " 'mean_log_rt',\n",
       " 'RT_mean_correct_error',\n",
       " 'mean_correct',\n",
       " 'mean_error',\n",
       " 'error_array',\n",
       " 'RT_Cor_arr',\n",
       " 'ID',\n",
       " 'Task',\n",
       " 'Session',\n",
       " 'alpha_shifted',\n",
       " 'alpha_clipped',\n",
       " 'alpha_arcsin',\n",
       " 'alpha_mean_boxcox_after_arcsin',\n",
       " 'accuracy_arcsin',\n",
       " 'accuracy_percentage_boxcox_after_arcsin']"
      ]
     },
     "execution_count": 6,
     "metadata": {},
     "output_type": "execute_result"
    }
   ],
   "source": [
    "list(df_ldt_s1)"
   ]
  },
  {
   "cell_type": "code",
   "execution_count": 7,
   "id": "c9290141-d674-48f8-973e-e1f6b7f0a4b6",
   "metadata": {},
   "outputs": [
    {
     "data": {
      "text/plain": [
       "0      0.685825\n",
       "1      0.955147\n",
       "2      0.874111\n",
       "3      0.625250\n",
       "4      0.830167\n",
       "         ...   \n",
       "99     1.360167\n",
       "100    0.604143\n",
       "101    0.601593\n",
       "102    0.653043\n",
       "103    0.792268\n",
       "Name: mean_error, Length: 104, dtype: float64"
      ]
     },
     "execution_count": 7,
     "metadata": {},
     "output_type": "execute_result"
    }
   ],
   "source": [
    "df_ldt_s1['mean_error']"
   ]
  },
  {
   "cell_type": "code",
   "execution_count": null,
   "id": "eeadcb76-6754-4649-842d-5f45094855d8",
   "metadata": {},
   "outputs": [],
   "source": []
  }
 ],
 "metadata": {
  "kernelspec": {
   "display_name": "Python 3 (ipykernel)",
   "language": "python",
   "name": "python3"
  },
  "language_info": {
   "codemirror_mode": {
    "name": "ipython",
    "version": 3
   },
   "file_extension": ".py",
   "mimetype": "text/x-python",
   "name": "python",
   "nbconvert_exporter": "python",
   "pygments_lexer": "ipython3",
   "version": "3.10.12"
  }
 },
 "nbformat": 4,
 "nbformat_minor": 5
}
